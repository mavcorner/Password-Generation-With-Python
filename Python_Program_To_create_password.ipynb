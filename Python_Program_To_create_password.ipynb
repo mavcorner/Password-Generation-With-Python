{
  "nbformat": 4,
  "nbformat_minor": 0,
  "metadata": {
    "colab": {
      "provenance": []
    },
    "kernelspec": {
      "name": "python3",
      "display_name": "Python 3"
    },
    "language_info": {
      "name": "python"
    }
  },
  "cells": [
    {
      "cell_type": "markdown",
      "source": [
        "import necessary modules\n"
      ],
      "metadata": {
        "id": "ADUGvrsRcnEv"
      }
    },
    {
      "cell_type": "code",
      "execution_count": 1,
      "metadata": {
        "id": "c_VZI25bcgyz"
      },
      "outputs": [],
      "source": [
        "import random"
      ]
    },
    {
      "cell_type": "code",
      "source": [
        "import string"
      ],
      "metadata": {
        "id": "XmbXAxcYctd3"
      },
      "execution_count": 2,
      "outputs": []
    },
    {
      "cell_type": "code",
      "source": [
        "def password_generation(length):\n",
        "  #Define the characters for generating the password\n",
        "  characters = string.ascii_letters + string.digits + string.punctuation\n",
        "\n",
        "  #Generate a password by randomly selecting characters from the previously fdefined character pool.\n",
        "  password = ''.join(random.choice(characters) for _ in range(length))\n",
        "\n",
        "  # Return the generated password\n",
        "  return password\n",
        "\n",
        "# Ask the user to enter the desired length of the password\n",
        "password_length = int(input(\"Input the desired length for your password: \"))\n",
        "\n",
        "#Generate the password based on the length\n",
        "generated_password = password_generation(password_length)\n",
        "\n",
        "# Print the generated password\n",
        "print(\"Generated Password: \", generated_password)\n"
      ],
      "metadata": {
        "colab": {
          "base_uri": "https://localhost:8080/"
        },
        "id": "UPaUvrTEcwPS",
        "outputId": "5c68d3a8-62dd-4f24-bcd3-4ea93b8285d2"
      },
      "execution_count": 4,
      "outputs": [
        {
          "output_type": "stream",
          "name": "stdout",
          "text": [
            "Input the desired length for your password: 11\n",
            "Generated Password:  6j#voS5B-9p\n"
          ]
        }
      ]
    }
  ]
}